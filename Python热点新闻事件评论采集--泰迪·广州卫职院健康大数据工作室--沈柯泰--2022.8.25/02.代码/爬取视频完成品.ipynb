{
 "cells": [
  {
   "cell_type": "code",
   "execution_count": 1,
   "metadata": {
    "collapsed": true
   },
   "outputs": [],
   "source": [
    "import time\n",
    "from selenium import webdriver\n",
    "import requests\n",
    "import json\n",
    "import pprint\n",
    "import pandas as pd"
   ]
  },
  {
   "cell_type": "code",
   "execution_count": null,
   "metadata": {
    "collapsed": true
   },
   "outputs": [],
   "source": [
    "#使用selenium打开爬取网页\n",
    "driver = webdriver.Edge()\n",
    "driver.get(r\"https://www.bilibili.com/video/BV1YA4y1R7RJ?spm_id_from=3&vd_source=75c5cc72360e88d57d6f3a56dfb962cf\")\n",
    "\n",
    "#获取页码初始高度\n",
    "js = \"return action = document.body.scrollHeight\"\n",
    "height = driver.execute_script(js)\n",
    "\n",
    "#将滚动条调整至页面底部\n",
    "driver.execute_script(\"window.scrollTo(0,document.body.scrollHeight)\")\n",
    "time.sleep(10)\n",
    "\n",
    "#定义初始时间戳(s)\n",
    "t1 = int(time.time())\n",
    "#定义循环标识，用于终止while循环\n",
    "status = True\n",
    "#重试次数\n",
    "num = 0\n",
    "while status:\n",
    "    #获取当前时间戳\n",
    "    t2 = int(time.time())\n",
    "    #判断时间初始时间戳和当前时间戳相差是否大于30s，小于30s则下拉滚动条\n",
    "    if t2-t1 < 30:\n",
    "        new_height = driver.execute_script(js)\n",
    "        if new_height > height :\n",
    "            time.sleep(5)\n",
    "            driver.execute_script(\"window.scrollTo(0, document.body.scrollHeight)\")\n",
    "            #重置初始页面高度\n",
    "            height = new_height\n",
    "            #重置初始时间戳，重新计时\n",
    "            t1 = int(time.time())\n",
    "    elif num < 3:\n",
    "        time.sleep(5)\n",
    "        num = num+1\n",
    "    else:\n",
    "        print(\"已获得足够数量评论\")\n",
    "        status = False\n",
    "        #滚动条调整至页面顶部\n",
    "        driver.execute_script(\"window.scrollTo(0,0)\")\n",
    "        break"
   ]
  },
  {
   "cell_type": "code",
   "execution_count": null,
   "metadata": {
    "collapsed": true
   },
   "outputs": [],
   "source": [
    "#爬取评论点赞量\n",
    "data2 = []\n",
    "for id in range(1,320):\n",
    "    url = 'https://api.bilibili.com/x/v2/reply/main?mode=3&next={}&oid=897395126&plat=1&type=1'.format(id)\n",
    "    rq = requests.get(url)\n",
    "    shuju = json.loads(rq.text)    \n",
    "    for i in shuju['data']['replies']:\n",
    "        data2.append([i['like']]) \n",
    "        if i['replies']!= None: \n",
    "            for j in i['replies']:\n",
    "                data2.append([j['like']]) \n",
    "                time.sleep(2)\n",
    "\n",
    "#爬取置顶评论点赞量\n",
    "data1 = []\n",
    "for i in shuju['data']['top_replies']:\n",
    "    data1.append([i['like']]) \n",
    "    if i['replies']!= None:\n",
    "        for j in i['replies']:\n",
    "            data1.append([j['like']])\n",
    "\n",
    "print(\"爬取完成\")\n",
    "\n",
    "\n",
    "#整理数据\n",
    "data = data1 + data2\n",
    "content = pd.DataFrame(columns=['评论点赞量'],data=data)\n",
    "content.to_csv('like1.csv', index=0)"
   ]
  },
  {
   "cell_type": "code",
   "execution_count": null,
   "metadata": {
    "collapsed": true
   },
   "outputs": [],
   "source": [
    "#爬取网页评论及子评论\n",
    "data2 = []\n",
    "for id in range(1,320):\n",
    "    url = 'https://api.bilibili.com/x/v2/reply/main?mode=3&next={}&oid=897395126&plat=1&type=1'.format(id)\n",
    "    rq = requests.get(url)\n",
    "    shuju = json.loads(rq.text)    \n",
    "    for i in shuju['data']['replies']:\n",
    "        data2.append([i['content']['message']]) \n",
    "        if i['replies']!= None:            \n",
    "            for j in i['replies']:\n",
    "                data2.append([j['content']['message']])\n",
    "                time.sleep(2)\n",
    "\n",
    "#爬取置顶评论\n",
    "data1 = []\n",
    "for i in shuju['data']['top_replies']:\n",
    "    data1.append([i['content']['message']]) \n",
    "    if i['replies']!= None:\n",
    "        for j in i['replies']:\n",
    "            data1.append([j['content']['message']])\n",
    "\n",
    "print(\"爬取完成\")\n",
    "           \n",
    "#整理数据\n",
    "data = data1 + data2\n",
    "content = pd.DataFrame(columns=['视频评论'],data=data)\n",
    "content.to_csv('replys1.csv', index=0)"
   ]
  },
  {
   "cell_type": "code",
   "execution_count": null,
   "metadata": {
    "collapsed": true
   },
   "outputs": [],
   "source": [
    "#爬取评论发表时间\n",
    "data2 = []\n",
    "for id in range(1,320):\n",
    "    url = 'https://api.bilibili.com/x/v2/reply/main?mode=3&next={}&oid=897395126&plat=1&type=1'.format(id)\n",
    "    rq = requests.get(url)\n",
    "    shuju = json.loads(rq.text)    \n",
    "    for i in shuju['data']['replies']:\n",
    "        data2.append([i['ctime']]) \n",
    "        if i['replies']!= None: \n",
    "            for j in i['replies']:\n",
    "                data2.append([j['ctime']]) \n",
    "                time.sleep(2)\n",
    "\n",
    "#爬取置顶评论发表时间\n",
    "data1 = []\n",
    "for i in shuju['data']['top_replies']:\n",
    "    data1.append([i['ctime']]) \n",
    "    if i['replies']!= None:\n",
    "        for j in i['replies']:\n",
    "            data1.append([j['ctime']])\n",
    "            \n",
    "print(\"爬取完成\")\n",
    "\n",
    "#整理数据\n",
    "data = data1 + data2\n",
    "content = pd.DataFrame(columns=['评论发表时间'],data=data)\n",
    "content.to_csv('ctime1.csv', index=0)"
   ]
  },
  {
   "cell_type": "code",
   "execution_count": 120,
   "metadata": {
    "collapsed": true
   },
   "outputs": [],
   "source": [
    "#整合全部csv文件\n",
    "df_replys = pd.read_csv('replys1.csv',encoding='utf-8')\n",
    "df_ctime = pd.read_csv('ctime1.csv',encoding='utf-8')\n",
    "df_like = pd.read_csv('like1.csv',encoding='utf-8')\n",
    "df = pd.concat([df_ctime , df_like, df_replys], axis=1)\n",
    "df.to_csv('df.csv', index=0)"
   ]
  }
 ],
 "metadata": {
  "kernelspec": {
   "display_name": "Python 3 (ipykernel)",
   "language": "python",
   "name": "python3"
  },
  "language_info": {
   "codemirror_mode": {
    "name": "ipython",
    "version": 3
   },
   "file_extension": ".py",
   "mimetype": "text/x-python",
   "name": "python",
   "nbconvert_exporter": "python",
   "pygments_lexer": "ipython3",
   "version": "3.9.12"
  }
 },
 "nbformat": 4,
 "nbformat_minor": 2
}
